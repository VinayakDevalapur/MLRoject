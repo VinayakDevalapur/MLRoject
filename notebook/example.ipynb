{
 "cells": [
  {
   "cell_type": "code",
   "execution_count": 5,
   "metadata": {},
   "outputs": [
    {
     "ename": "SyntaxError",
     "evalue": "invalid syntax. Perhaps you forgot a comma? (__init__.py, line 13)",
     "output_type": "error",
     "traceback": [
      "Traceback \u001b[1;36m(most recent call last)\u001b[0m:\n",
      "\u001b[0m  File \u001b[0;32me:\\MLRoject\\env\\Lib\\site-packages\\IPython\\core\\interactiveshell.py:3508\u001b[0m in \u001b[0;35mrun_code\u001b[0m\n    exec(code_obj, self.user_global_ns, self.user_ns)\u001b[0m\n",
      "\u001b[0m  Cell \u001b[0;32mIn[5], line 5\u001b[0m\n    from housing.config.configuration import Configuartion\u001b[0m\n",
      "\u001b[0m  File \u001b[0;32me:\\mlroject\\housing\\config\\configuration.py:2\u001b[0m\n    from housing.util.util import read_yaml_file\u001b[0m\n",
      "\u001b[1;36m  File \u001b[1;32me:\\mlroject\\housing\\util\\util.py:2\u001b[1;36m\n\u001b[1;33m    from housing.exception import HousingException\u001b[1;36m\n",
      "\u001b[1;36m  File \u001b[1;32me:\\mlroject\\housing\\exception\\__init__.py:13\u001b[1;36m\u001b[0m\n\u001b[1;33m    self.error_message = HousingException.get_detailed_error_message(error_message=error_message\u001b[0m\n\u001b[1;37m                                                                                   ^\u001b[0m\n\u001b[1;31mSyntaxError\u001b[0m\u001b[1;31m:\u001b[0m invalid syntax. Perhaps you forgot a comma?\n"
     ]
    }
   ],
   "source": [
    "import os\n",
    "import yaml\n",
    "from housing.constant import *\n",
    "from housing.util import *"
   ]
  },
  {
   "cell_type": "code",
   "execution_count": null,
   "metadata": {},
   "outputs": [],
   "source": []
  }
 ],
 "metadata": {
  "kernelspec": {
   "display_name": "env",
   "language": "python",
   "name": "python3"
  },
  "language_info": {
   "codemirror_mode": {
    "name": "ipython",
    "version": 3
   },
   "file_extension": ".py",
   "mimetype": "text/x-python",
   "name": "python",
   "nbconvert_exporter": "python",
   "pygments_lexer": "ipython3",
   "version": "3.11.1"
  },
  "orig_nbformat": 4
 },
 "nbformat": 4,
 "nbformat_minor": 2
}
